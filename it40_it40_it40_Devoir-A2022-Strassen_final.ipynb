{
  "metadata": {
    "kernelspec": {
      "name": "python",
      "display_name": "Python (Pyodide)",
      "language": "python"
    },
    "language_info": {
      "codemirror_mode": {
        "name": "python",
        "version": 3
      },
      "file_extension": ".py",
      "mimetype": "text/x-python",
      "name": "python",
      "nbconvert_exporter": "python",
      "pygments_lexer": "ipython3",
      "version": "3.8"
    }
  },
  "nbformat_minor": 4,
  "nbformat": 4,
  "cells": [
    {
      "cell_type": "markdown",
      "source": "# Multiplication des matrices : Algorithme de Strassen\n\nLe but ce projet est de présenter un algorithme récursif et efficace (c'est-à-dire\néconome en temps de calcul) pour calculer le produit de deux matrices.\n\nLorsque l'on fait calculer à une machine le produit de deux matrices, les\nmultiplications entre les coefficients des matrices coûtent plus de\nressources machines que les additions. L'algorithme de Strassen est donc\nun algorithme qui utilise moins de multiplication que l'algorithme\nclassique pour le calcul du produit de deux matrices.\n\nLe projet se décompose en deux parties :\n- Une première partie qui vous fait découvrir pas à pas la méthode de Strassen\n- Une deuxième partie où il vous est demandé d'implémenter la méthode.\n\n\n## Algorithme de Strassen (Matrices $2\\times 2$)\n\n\nDans cette partie on s'intéresse au nombre de multiplications effectuées\nlorsqu'on calcule le produit de deux matrices. L'algorithme de Strassen\nprésenté dans cette partie permet de diminuer ce nombre.\n\nSoit le produit de deux matrices de taille $2\\times 2$,\n$$A\\times B=\\begin{pmatrix}\na_{11} & a_{12}\\\\\na_{21} & a_{22}\n\\end{pmatrix}\n\\times\n\\begin{pmatrix}\nb_{11} & b_{12}\\\\\nb_{21} & b_{22}\n\\end{pmatrix}=\\begin{pmatrix}\nc_{11} & c_{12} \\\\\nc_{21} & c_{22}\n \\end{pmatrix}=C$$\n\n1.  Combien de multiplications sont nécessaires pour calculer tous les\n    coefficients $c_{ij}$ par la définition du produit matriciel usuelle ?",
      "metadata": {}
    },
    {
      "cell_type": "markdown",
      "source": "**À vous.....**\n1. _Réponse_\n\\begin{equation*}\n\\begin{bmatrix}\na_{11} & a_{12} \\\\\na_{21} & a_{22}\n\\end{bmatrix}\n\\begin{bmatrix}\nb_{11} & b_{12} \\\\\nb_{21} & b_{22}\n\\end{bmatrix} =\n\\begin{bmatrix}\na_{11}b_{11} + a_{12}b_{21} & a_{11}b_{12} + a_{12}b_{22} \\\\\na_{21}b_{11} + a_{22}b_{21} & a_{21}b_{12} + a_{22}b_{22}\n\\end{bmatrix}=C\n\\end{equation*}\ndonc 8",
      "metadata": {}
    },
    {
      "cell_type": "markdown",
      "source": "2.  Considérons les produits suivants :\\\n    $$\\mbox{(Formules de Strassen) }\\left\\{\\begin{array}{l}\n    q_1 =(a_{11}-a_{12})b_{22}\\\\\n    q_2=(a_{21}-a_{22})b_{11}\\\\\n    q_3=a_{22}(b_{11}+b_{21})\\\\\n    q_4=a_{11}(b_{12}+b_{22})\\\\\n    q_5=(a_{11}+a_{22})(b_{22}-b_{11})\\\\\n    q_6=(a_{11}+a_{21})(b_{11}+b_{12})\\\\\n    q_7=(a_{12}+a_{22})(b_{21}+b_{22})\n    \\end{array}\\right.$$\n\n    Vérifier qu'on retrouve la matrice $C$ en effectuant les opérations\n    suivantes :\n    \n      $$\\begin{array}{c}\n    c_{11}= q_1-q_3-q_5+q_7\\\\\n    c_{12}=q_4-q_1\\\\\n    c_{21}=q_2+q_3\\\\\n    c_{22}=-q_2-q_4+q_5+q_6\n    \\end{array}$$\n",
      "metadata": {}
    },
    {
      "cell_type": "markdown",
      "source": "**À vous.....**\n\n2. _Réponse_\n\n    $$\\begin{array}{c}\n    c_{11}= q_1-q_3-q_5+q_7=(a_{11}-a_{12})b_{22}-a_{22}(b_{11}+b_{21})-(a_{11}+a_{22})(b_{22}-b_{11})+(a_{12}+a_{22})(b_{21}+b_{22})=a_{11}b_{11} + a_{12}b_{21}\\\\\n    c_{12}=q_4-q_1=a_{11}(b_{12}+b_{22})-(a_{11}-a_{12})b_{22}=a_{11}b_{12} + a_{12}b_{22}\\\\\n    c_{21}=q_2+q_3=(a_{21}-a_{22})b_{11}+a_{22}(b_{11}+b_{21})=a_{21}b_{11} + a_{22}b_{21}\\\\\n    c_{22}=-q_2-q_4+q_5+q_6=-(a_{21}-a_{22})b_{11}-a_{11}(b_{12}+b_{22})+(a_{11}+a_{22})(b_{22}-b_{11})+(a_{11}+a_{21})+b_{11}+b_{12})=a_{22}b_{22}+a_{21}b_{12}\n    \\end{array}$$\n\n",
      "metadata": {}
    },
    {
      "cell_type": "markdown",
      "source": "3.  Conclure que les formules de Strassen permettent de calculer le\n    produit $A\\times B$. Qu'a-t-on gagné en nombre de multiplication ?",
      "metadata": {}
    },
    {
      "cell_type": "markdown",
      "source": "**À vous.....**\n\n3. _Réponse_\nici on en a fait 7 on en gagner donc une seule\n",
      "metadata": {}
    },
    {
      "cell_type": "markdown",
      "source": "## Produit matriciel par blocs\n\n1.  Produit par blocs: soit $A, B$ deux matrices de tailles $2n\\times 2n$ \nOn peut alors écrire $A$ et $B$ de la façon suivante\n    $$\n    A=\\left(\\begin{array}{c|c}\n     A_{11} & A_{12} \\\\\n    \\hline\n    A_{21} & A_{22}\n             \\end{array}\\right)\n             \\mbox{ et }\n     B=\\left(\\begin{array}{c|c}\n    B_{11} & B_{12} \\\\\n    \\hline\n    B_{21} & B_{22}          \n             \\end{array}\\right).\n    $$\n    Les blocs $A_{11},\\dots, B_{22}$ sont\n    des matrices $n\\times n$.\n\n    Le calcul du produit $A\\times B$ peut se faire par blocs à partir\n    des produits des matrices $A_{ik}\\times B_{kj}$ de la manière\n    suivante: \n    $$C=A\\times B=\\left(\\begin{array}{c|c}\n     C_{11} & C_{12} \\\\\n    \\hline\n    C_{21} & C_{22}\\\\\n    \\end{array}\\right)=\\left(\\begin{array}{c|c}       \n    A_{11}\\times B_{11}+A_{12}\\times B_{21} & A_{11}\\times B_{12}+A_{12}\\times B_{22}\\\\\n    \\hline\n    A_{21}\\times B_{11}+A_{22}\\times B_{21} & A_{21}\\times B_{12}+A_{22}\\times B_{22}\n    \\end{array}\\right)$$\n    \n    Calculer par blocs, en détaillant vos calculs, $C=A\\times B$ où $A$ et $B$\n    sont les matrices de taille $4\\times 4$ définies par\n    $$A=\\begin{pmatrix}\n       1 & 2 & 0 & 1\\\\\n       3 & 4 & -1 & 1\\\\\n       1 & 0 & 1 & 2\\\\\n       0 & 1 & 3 & 4\n      \\end{pmatrix}, B=\\begin{pmatrix}\n      1 & -1 & 0& 1\\\\\n      2 & 0 & 1 & 1\\\\\n      0 & 1 & 1 & 0\\\\\n      1 & 0 & 0 & -1\n       \\end{pmatrix}\n     $$",
      "metadata": {}
    },
    {
      "cell_type": "markdown",
      "source": "**À vous.....**\n- _Réponse_\n\n\\begin{aligned}\n\\begin{pmatrix}\n1 & 2 \\\\\n3 & 4\n\\end{pmatrix}\n\\begin{pmatrix}\n1 & -1 \\\\\n2 & 0\n\\end{pmatrix}&+\n\\begin{pmatrix}\n0 & 1 \\\\\n-1 & 1\n\\end{pmatrix}\n\\begin{pmatrix}\n0 & 1 \\\\\n1 & 0\n\\end{pmatrix}&=\n\\begin{pmatrix}\n6 & -1 \\\\\n12 & -4\n\\end{pmatrix}\\\\\n\\begin{pmatrix}\n1 & 0 \\\\\n0 & 1\n\\end{pmatrix}\n\\begin{pmatrix}\n1 & -1 \\\\\n2 & 0\n\\end{pmatrix}&+\n\\begin{pmatrix}\n1 & 2 \\\\\n3 & 4\n\\end{pmatrix}\n\\begin{pmatrix}\n0 & 1 \\\\\n1 & 0\n\\end{pmatrix}&=\n\\begin{pmatrix}\n2 & 2 \\\\\n3 & 6\n\\end{pmatrix}\\\\\n\\begin{pmatrix}\n1 & 2 \\\\\n3 & 4\n\\end{pmatrix}\n\\begin{pmatrix}\n0 & 1 \\\\\n1 & 1\n\\end{pmatrix}&+\n\\begin{pmatrix}\n0 & 1 \\\\\n-1 & 1\n\\end{pmatrix}\n\\begin{pmatrix}\n1 & 0 \\\\\n0 & -1\n\\end{pmatrix}&=\n\\begin{pmatrix}\n3 & 0 \\\\\n6 & 3\n\\end{pmatrix}\\\\\n\\begin{pmatrix}\n1 & 0 \\\\\n0 & 1\n\\end{pmatrix}\n\\begin{pmatrix}\n0 & 1 \\\\\n1 & 1\n\\end{pmatrix}&+\n\\begin{pmatrix}\n1 & 2 \\\\\n3 & 4\n\\end{pmatrix}\n\\begin{pmatrix}\n1 & 0 \\\\\n0 & -1\n\\end{pmatrix}&=\n\\begin{pmatrix}\n1 & -1 \\\\\n4 & -3\n\\end{pmatrix}\\\\\n\\end{aligned}\n\n   finalement on a  \n   $$\nC = A \\times B =\\begin{pmatrix}\n6 & -1 & 2 & 2 \\\\\n12 & -4 & 3 & 6 \\\\\n3 & 0 & 1 & -1 \\\\\n6 & 3 & 4 & -3\n\\end{pmatrix}\n$$",
      "metadata": {}
    },
    {
      "cell_type": "markdown",
      "source": "## Algorithme de Strassen (cas général)\n\n1.  Soient $A$ et $B$ deux matrices de tailles\n    $n\\times n=2^k\\times 2^k$. On découpe ces matrices en blocs (les\n    sous-matrices sont de taille $2^{k-1}\\times 2^{k-1}$) :\n    \n    $$\n    A=\\left(\\begin{array}{c|c}\n       A_{11} & A_{12} \\\\\n       \\hline\n       A_{21} & A_{22}\n            \\end{array}\n       \\right) \\mbox{ et }\n    B=\\left(\\begin{array}{c|c}\n       B_{11} & B_{12} \\\\\n       \\hline\n       B_{21} & B_{22}     \n            \\end{array}\n      \\right)\n    $$\n    et on note $C=\\left(\\begin{array}{c|c}\n                       C_{11} & C_{12} \\\\\n                       \\hline\n                       C_{21} & C_{22}\n                       \\end{array}\n                   \\right)$ le produit $A\\times B$.\n    \n    Écrire les formules de Strassen par blocs et vérifier qu'elles\n    permettent de calculer $C$.\n\n2.  Soit $u_k$ le nombre de multiplications nécessaires pour calculer le\n    produit de deux matrices $A$ et $B$ de tailles $2^k\\times 2^k$.\n    Montrer que si on applique les formules de Strassen on a\n    $u_k=7u_{k-1}$.\n\n3.  Toujours en utilisant la méthode de Strassen, que vaut $u_1$ ?\n\n4.  En déduire qu'il faut $u_k=7^k$ multiplications pour réaliser le\n    produit de deux matrices de taille $2^k\\times 2^k$.\n\n5.  Posons $n=2^k$ et montrer que\n    $u_k=n^{\\frac{\\ln(7)}{\\ln(2)}}\\simeq n^{2.81}$ (on pourra poser\n    $u_k=n^\\alpha$ et chercher à déterminer $\\alpha$).\n\n6.  Si on applique la méthode classique pour calculer le\n    produit de deux matrices $A\\times B$ de taille $n\\times n$ combien\n    de multiplications en fonction de $n$ sont nécessaires ?\n\n7.  Application numérique : pour multiplier deux matrices de taille\n    $128\\times 128$ combien de multiplications économise-t-on en\n    utilisant les formules de Strassen à la place du calcul classique ?\n\n**Remarque :** Le cas général où $A$ et $B$ sont des matrices de tailles\n$n\\times n$ avec $2^{k-1}<n <2^k$ se résout en complétant les matrices\npar des zéros de sorte à obtenir deux matrices de tailles\n$2^k\\times 2^k$.",
      "metadata": {}
    },
    {
      "cell_type": "markdown",
      "source": "**À vous.....**\n1. _Réponse_\n$$\\mbox{(Formules de Strassen) }\\left\\{\\begin{array}{l}\n    q_1 =(A_{11}-A_{12})B_{22}\\\\\n    q_2=(A_{21}-A_{22})B_{11}\\\\\n    q_3=A_{22}(B_{11}+B_{21})\\\\\n    q_4=A_{11}(B_{12}+B_{22})\\\\\n    q_5=(A_{11}+A_{22})(B_{22}-B_{11})\\\\\n    q_6=(A_{11}+A_{21})(B_{11}+B_{12})\\\\\n    q_7=(A_{12}+A_{22})(B_{21}+B_{22})\n    \\end{array}\\right.$$\n    \n    \n$$\\begin{array}{C}\nC_{11}= q_1-q_3-q_5+q_7\\\\\nC_{12}=q_4-q_1\\\\\nC_{21}=q_2+q_3\\\\\nC_{22}=-q_2-q_4+q_5+q_6\n\\end{array}$$\n\n\n$$\\begin{array}{C}\nC_{11}= q_1-q_3-q_5+q_7=(A_{11}-A_{12})B_{22}-A_{22}(B_{11}+B_{21})-(A_{11}+A_{22})(B_{22}-B_{11})+(A_{12}+A_{22})(B_{21}+B_{22})=A_{11}B_{11} + A_{12}B_{21}\\\\\nC_{12}=q_4-q_1=A_{11}(B_{12}+B_{22})-(A_{11}-A_{12})B_{22}=A_{11}B_{12} + A_{12}B_{22}\\\\\nC_{21}=q_2+q_3=(A_{21}-A_{22})B_{11}+A_{22}(B_{11}+B_{21})=A_{21}B_{11} + A_{22}B_{21}\\\\\nC_{22}=-q_2-q_4+q_5+q_6=-(A_{21}-A_{22})B_{11}-A_{11}(B_{12}+B_{22})+(A_{11}+A_{22})(B_{22}-B_{11})+(A_{11}+A_{21})+B_{11}+B_{12})=A_{22}B_{22}+A_{21}B_{12}\n\\end{array}$$\n\n\n\n2. _Réponse_\nOn va montrer le résultat par récurrence,\n\nInitialisation, pour $k=1$ on a $n=2^1$ donc on cherche à determiner le nombre d'opération du produit de deux matrice par la méthode de strassen avec deux martrices de dimension 2,\non à vu à la première question que nous avons 7 opération c'est à dire une de moin qu'avec le produit matriciel classique.\ndonc $u_1=7=\n\n3. _Réponse_\n\nOn a vu au debut que pour le nombre de multiplication du produit matriciel en utilisant la méthode de strassen pour des matrice de taille 2*2 vallait 7 donc $u_1$ vau$7$\n\n4. _Réponse_\nOn va montrer le résultat par résurence,\n\nInitialisation, pour $k=1$ on a $u_1=7^1=7$ opération et donc valide \non suppose k vrai pour un certain rang et on va montrer que l'hypothèse est vrai au rang k+1.\n\nOn sait que :\n$u_k=7^k$ et $u_k=7u_{k-1}$ donc $u_{k+1}=7*7^k=7^{k+1}$\n\ndonc la propriété est vrai pour tout $k$.\n\n5. _Réponse_\n$u_k=7^k=n^\\alpha$ on résout : $7^k=n^\\alpha$,\n\n$ln(7^k)=ln(n^\\alpha)$\n\n$k*ln(7)=\\alpha*ln(2^k)$\n\n$\\frac{k*ln(7)}{k*ln(2)}=\\alpha$\n\n$\\frac{ln(7)}{ln(2)}=\\alpha= 2.81$\n\ndonc \n$u_k=n^{\\frac{\\ln(7)}{\\ln(2)}}\\simeq n^{2.81}$\n\n6. _Réponse_\nOn doit faire $n$ multiplications pour chaque element de la martrice résultante et comme elle contient $n*n$ element alors on doit faire $n^3$ multiplications en tout \n7. _Réponse_\navec la méthode normale on a $128^3=2 097 152$ multiplications\navec la méthode de strassen on a $7^7=823 543$multiplications ($2^7=128$)\non a donc gagné 1 273 609 multiplications\n\n\n",
      "metadata": {}
    },
    {
      "cell_type": "markdown",
      "source": "# Implémentation de l'algorithme de Strassen\n\nUne fois le principe de l'algorithme établi vous effecturez les taches\nsuivantes:\n\n-   Implémenter l'algorithme de Strassen et l'algorithme de\n    multiplication classique pour effecuter le produit de deux matrices\n    carré $A$ et $B$ de tailles $2\\times 2$.\n\n-   Implémenter l'algorithme de Strassen (en utilisant la récursivité)\n    et l'algorithme de multiplication classique (de manière directe ou récursive)\n    pour calculer des matrices de tailles $2^k\\times 2^k$\n\n-   Déterminer l'entier $k$ à partir duquel l'algorithme de Strassen\n    est plus rapide que l'algorithme classique pour calculer le produit\n    de deux matrices carrés de taille $2^k$ (vous testerez votre\n    programme en construisant des matrices aléatoires de taille $2^k$).\n\n-   [Option] Implémenter l'algorithme de Strassen\n    pour calculer des matrices de tailles $n\\times n$ où $n$ n'est plus\n    nécessairement une puissance de 2 \n\n-   [Recherche bibliographique] Existe-t-il des algorithmes plus performant en terme de\n    nombre d'opérations pour effectuer le produit de deux matrices ?",
      "metadata": {
        "tags": []
      }
    },
    {
      "cell_type": "code",
      "source": "# Algorithme de multiplication classique pour matrices carrées de tailles 2 x 2\ndef classic(A, B):    \n    C = [[0, 0], [0, 0]]    \n    C[0][0] = A[0][0] * B[0][0] + A[0][1] * B[1][0]\n    C[0][1] = A[0][0] * B[0][1] + A[0][1] * B[1][1]\n    C[1][0] = A[1][0] * B[0][0] + A[1][1] * B[1][0]\n    C[1][1] = A[1][0] * B[0][1] + A[1][1] * B[1][1]    \n    return C\n# test\nA = [[1, 2], [3, 4]]\nB = [[5, 6], [7, 8]]\nC = classic(A, B)\nprint(\"la matrice est\"+str(C))\n",
      "metadata": {
        "trusted": true
      },
      "execution_count": null,
      "outputs": []
    },
    {
      "cell_type": "code",
      "source": "# Algorithme de Strassen pour calculer le produit de deux matrices carrées de tailles 2 x 2\ndef strassen(A, B):    \n    M1 = (A[0][0] - A[0][1]) * B[1][1]\n    M2 = (A[1][0] - A[1][1]) * B[0][0]\n    M3 = A[1][1] * (B[0][0] + B[1][0])\n    M4 = A[0][0] * (B[0][1] + B[1][1])\n    M5 = (A[0][0] + A[1][1]) * (B[1][1] - B[0][0])\n    M6 = (A[0][0] + A[1][0]) * (B[0][0] + B[0][1])\n    M7 = (A[0][1] + A[1][1]) * (B[1][0] + B[1][1])\n    \n    # Initialiser la matrice C\n    C = [[0, 0], [0, 0]]  \n    #on reprend les formules de strassen\n    C[0][0] = M1 - M3 - M5 + M7\n    C[0][1] = M4 - M1\n    C[1][0] = M2 + M3\n    C[1][1] = -M2 - M4 + M5 + M6   \n    return C\nA = [[1, 2], [3, 4]]\nB = [[5, 6], [7, 8]]\nC = strassen(A, B)\nprint(\"la matrice est\"+str(C))",
      "metadata": {
        "trusted": true
      },
      "execution_count": 5,
      "outputs": [
        {
          "name": "stdout",
          "text": "la matrice vaut[[19, 22], [43, 50]]\n",
          "output_type": "stream"
        }
      ]
    },
    {
      "cell_type": "code",
      "source": "# Algorithme de multiplication classique pour calculer des matrices de tailles 2^k x 2^k\ndef classic(A, B, k):\n    # Initialiser la matrice C\n    C = [[0 for i in range(2**k)] for j in range(2**k)]\n    \n    # Calculer les éléments de la matrice C en utilisant la formule de multiplication classique\n    for i in range(2**k):\n        for j in range(2**k):\n            for l in range(2**k):\n                C[i][j] += A[i][l] * B[l][j]   \n    \n    return C\n#test\nA = [[1, 2, 3, 4],\n     [5, 6, 7, 8],\n     [9, 10, 11, 12],\n     [13, 14, 15, 16]]\nB = [[17, 18, 19, 20],\n     [21, 22, 23, 24],\n     [25, 26, 27, 28],\n     [29, 30, 31, 32]]\n\nC = classic(A, B, 2)\nprint(C)",
      "metadata": {
        "trusted": true
      },
      "execution_count": null,
      "outputs": []
    },
    {
      "cell_type": "code",
      "source": "#soustraction de deux matrices\ndef sub(A, B):\n  # Vérifier si les matrices ont la même taille\n  if len(A) != len(B) or len(A[0]) != len(B[0]):\n    raise ValueError(\"Les matrices doivent être de la même taille pour pouvoir être soustraites.\")\n\n  # Initialiser la matrice C qui sera la différence des matrices A et B\n  C = [[0 for j in range(len(A[0]))] for i in range(len(A))]\n\n  # Soustraire les éléments des matrices A et B pour calculer la matrice C\n  for i in range(len(A)):\n    for j in range(len(A[0])):\n      C[i][j] = A[i][j] - B[i][j]\n  return C\n\n\n#addition de deux matrice\ndef add(A, B):\n  # Vérifier si les matrices ont la même taille\n  if len(A) != len(B) or len(A[0]) != len(B[0]):\n    raise ValueError(\"Les matrices doivent être de la même taille pour pouvoir être additionnées.\")\n\n  # Initialiser la matrice C qui sera la somme des matrices A et B\n  C = [[0 for j in range(len(A[0]))] for i in range(len(A))]\n\n  # Ajouter les éléments des matrices A et B pour calculer la matrice C\n  for i in range(len(A)):\n    for j in range(len(A[0])):\n      C[i][j] = A[i][j] + B[i][j]\n  return C\n\ndef strassen(A, B):\n    M1 = (A[0][0] - A[0][1]) * B[1][1]\n    M2 = (A[1][0] - A[1][1]) * B[0][0]\n    M3 = A[1][1] * (B[0][0] + B[1][0])\n    M4 = A[0][0] * (B[0][1] + B[1][1])\n    M5 = (A[0][0] + A[1][1]) * (B[1][1] - B[0][0])\n    M6 = (A[0][0] + A[1][0]) * (B[0][0] + B[0][1])\n    M7 = (A[0][1] + A[1][1]) * (B[1][0] + B[1][1])\n     \n    C = [[0, 0], [0, 0]] \n   \n    C[0][0] = M1 - M3 - M5 + M7\n    C[0][1] = M4 - M1\n    C[1][0] = M2 + M3\n    C[1][1] = -M2 - M4 + M5 + M6   \n    return C\n\ndef strassen_k(A, B):\n  \n  # Si les matrices sont de dimension 2 x 2, calculer leur produit en utilisant la fonction strassen\n  if len(A) == 2:\n    return strassen(A, B)\n  \n  # Diviser les matrices A et B en sous-matrices de dimension 2^(k-1) x 2^(k-1)\n  n = len(A) // 2\n  A11 = [[A[i][j] for j in range(n)] for i in range(n)]\n  A12 = [[A[i][j] for j in range(n, len(A))] for i in range(n)]\n  A21 = [[A[i][j] for j in range(n)] for i in range(n, len(A))]\n  A22 = [[A[i][j] for j in range(n, len(A))] for i in range(n, len(A))]\n  B11 = [[B[i][j] for j in range(n)] for i in range(n)]\n  B12 = [[B[i][j] for j in range(n, len(B))] for i in range(n)]\n  B21 = [[B[i][j] for j in range(n)] for i in range(n, len(B))]\n  B22 = [[B[i][j] for j in range(n, len(B))] for i in range(n, len(B))]\n  \n \n  M1 = strassen_k(add(A11, A22), add(B11, B22))\n  M2 = strassen_k(add(A21, A22), B11)\n  M3 = strassen_k(A11, sub(B12, B22))\n  M4 = strassen_k(A22, sub(B21, B11))\n  M5 = strassen_k(add(A11, A12), B22)\n  M6 = strassen_k(sub(A21, A11), add(B11, B12))\n  M7 = strassen_k(sub(A12, A22), add(B21, B22))  \n\n  C1 = [[0, 0]]\n  C[0][0] = M1 - M3 - M5 + M7\n  C[0][1] = M4 - M1\n  C[1][0] = M2 + M3\n  C[1][1] = -M2 - M4 + M5 + M6\n    \n  return C1\n\n#affichage resultat\nfor i in range(len(C)):\n  for j in range(len(C[i])):\n    print(C[i][j], end=\" \")\n  print()",
      "metadata": {
        "trusted": true
      },
      "execution_count": null,
      "outputs": []
    },
    {
      "cell_type": "markdown",
      "source": "Recherche bibliographique : Il existe l'algorithme de Coppersmith-Winograd et l'algorithmes et l'agorithme de Le Gall",
      "metadata": {}
    }
  ]
}